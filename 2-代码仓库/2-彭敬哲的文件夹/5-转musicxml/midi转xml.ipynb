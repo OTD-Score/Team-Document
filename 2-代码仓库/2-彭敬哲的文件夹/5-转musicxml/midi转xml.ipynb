{
 "cells": [
  {
   "cell_type": "markdown",
   "metadata": {},
   "source": [
    "## 测试music21的midi转musicxml功能"
   ]
  },
  {
   "cell_type": "code",
   "execution_count": null,
   "metadata": {},
   "outputs": [],
   "source": [
    "from music21 import *\n",
    "\n",
    "midifile = converter.parse(r'材料\\Pirates_of_the_Caribbean_-_Hes_a_Pirate.custom_score.mid')\n",
    "\n",
    "# 获取拍号信息\n",
    "time_signatures = midifile.flat.getElementsByClass(meter.TimeSignature)\n",
    "\n",
    "# 打印拍号信息\n",
    "for ts in time_signatures:\n",
    "    print(\"Time Signatures:\", ts.ratioString)\n"
   ]
  },
  {
   "cell_type": "code",
   "execution_count": null,
   "metadata": {},
   "outputs": [],
   "source": [
    "from music21 import converter  \n",
    "\n",
    "# MIDI文件路径  \n",
    "midi_file_path = '材料\\summer.mid'  \n",
    "\n",
    "# 加载MIDI文件  \n",
    "midi_stream = converter.parse(midi_file_path)  \n",
    "\n",
    "# 转换为MusicXML格式  \n",
    "musicxml_string = midi_stream.write('musicxml')  \n",
    "\n",
    "# 写入MusicXML文件  \n",
    "with open('output_file.musicxml', 'w') as f:  \n",
    "    f.write(musicxml_string)"
   ]
  },
  {
   "cell_type": "markdown",
   "metadata": {},
   "source": [
    "## 识别拍号速度"
   ]
  },
  {
   "cell_type": "code",
   "execution_count": null,
   "metadata": {},
   "outputs": [],
   "source": [
    "import madmom  \n",
    "from madmom.features import DBNBeatTrackingProcessor  \n",
    "from madmom.audio.signal import Signal  \n",
    "import numpy as np\n",
    "  \n",
    "# 加载音频文件  \n",
    "audio_file = '材料\\Summer_Joe_Hisaishi.mp3'  \n",
    "signal = Signal(audio_file)  \n",
    "  \n",
    "# 初始化节拍跟踪处理器  \n",
    "beat_proc = DBNBeatTrackingProcessor(fps=100)  # 设置处理帧率，这里使用100fps  \n",
    "  \n",
    "# 对音频信号进行处理，获取节拍事件  \n",
    "beats = beat_proc(signal)  \n",
    "  \n",
    "# 打印节拍事件  \n",
    "for beat in beats:  \n",
    "    print(f\"Beat at time: {beat.time}, confidence: {beat.confidence}\")  \n",
    "  \n",
    "# 估计速度（BPM）  \n",
    "# 计算平均节拍间隔  \n",
    "beat_intervals = np.diff(beats.times)  \n",
    "average_interval = np.mean(beat_intervals)  \n",
    "  \n",
    "# 将平均节拍间隔转换为BPM（每分钟节拍数）  \n",
    "bpm = 60.0 / average_interval  \n",
    "print(f\"Estimated BPM: {bpm:.2f}\")\n"
   ]
  },
  {
   "cell_type": "code",
   "execution_count": null,
   "metadata": {},
   "outputs": [],
   "source": [
    "import madmom  \n",
    "from madmom.features import CQT  \n",
    "from madmom.audio.signal import Signal  \n",
    "from madmom.audio.filters import DownsampleFilter  \n",
    "from madmom.processors import RNNBeatTrackingProcessor  \n",
    "  \n",
    "# 加载音频文件  \n",
    "audio_file = 'your_audio_file.wav'  \n",
    "signal = Signal(audio_file)  \n",
    "  \n",
    "# 对音频信号进行下采样和CQT特征提取  \n",
    "cqt_features = CQT(fps=100)(signal)  \n",
    "downsampled_cqt = DownsampleFilter(fps=20)(cqt_features)  \n",
    "  \n",
    "# 初始化RNN节拍跟踪处理器  \n",
    "rnn_beat_proc = RNNBeatTrackingProcessor(fps=20)  \n",
    "  \n",
    "# 运行RNN节拍跟踪处理器  \n",
    "beats = rnn_beat_proc(downsampled_cqt)  \n",
    "  \n",
    "# 打印节拍事件  \n",
    "for beat in beats:  \n",
    "    print(f\"Beat at time: {beat.time}, confidence: {beat.confidence}\")"
   ]
  },
  {
   "cell_type": "markdown",
   "metadata": {},
   "source": [
    "## 直接实现"
   ]
  },
  {
   "cell_type": "code",
   "execution_count": null,
   "metadata": {},
   "outputs": [],
   "source": [
    "import mt3"
   ]
  }
 ],
 "metadata": {
  "kernelspec": {
   "display_name": "Python 3",
   "language": "python",
   "name": "python3"
  },
  "language_info": {
   "codemirror_mode": {
    "name": "ipython",
    "version": 3
   },
   "file_extension": ".py",
   "mimetype": "text/x-python",
   "name": "python",
   "nbconvert_exporter": "python",
   "pygments_lexer": "ipython3",
   "version": "3.11.2"
  }
 },
 "nbformat": 4,
 "nbformat_minor": 2
}
